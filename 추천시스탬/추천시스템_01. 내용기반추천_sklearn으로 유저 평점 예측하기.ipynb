{
 "cells": [
  {
   "cell_type": "markdown",
   "metadata": {},
   "source": [
    "sklearn으로 유저 평점 예측하기"
   ]
  },
  {
   "cell_type": "code",
   "execution_count": 1,
   "metadata": {},
   "outputs": [
    {
     "data": {
      "text/plain": [
       "array([[3.83034441],\n",
       "       [2.59418977],\n",
       "       [2.63653566],\n",
       "       [3.48333221],\n",
       "       [2.75217812],\n",
       "       [2.43303141],\n",
       "       [3.03247628],\n",
       "       [4.41312853],\n",
       "       [4.28145539],\n",
       "       [3.61139607],\n",
       "       [3.82260281],\n",
       "       [3.01099122],\n",
       "       [3.06324646],\n",
       "       [4.41401949],\n",
       "       [4.08837667],\n",
       "       [3.30347874],\n",
       "       [4.69514621],\n",
       "       [4.3397661 ],\n",
       "       [3.42084949],\n",
       "       [3.94638571]])"
      ]
     },
     "execution_count": 1,
     "metadata": {},
     "output_type": "execute_result"
    }
   ],
   "source": [
    "# 필요한 도구들을 가지고 오는 코드\n",
    "from sklearn.linear_model import LinearRegression\n",
    "from sklearn.model_selection import train_test_split\n",
    "\n",
    "import pandas as pd\n",
    "import numpy as np\n",
    "\n",
    "# 유저 평점 + 영화 속성 데이터 경로 정의\n",
    "MOVIE_DATA_PATH = './data/movie_rating.csv'\n",
    "\n",
    "# pandas로 데이터 불러 오기\n",
    "movie_rating_df = pd.read_csv(MOVIE_DATA_PATH)\n",
    "\n",
    "features =['romance', 'action', 'comedy', 'heart-warming'] # 사용할 속성들 이름\n",
    "\n",
    "# 입력 변수와 목표 변수 나누기\n",
    "X = movie_rating_df[features]\n",
    "y = movie_rating_df[['rating']]\n",
    "\n",
    "# 입력 변수와 목표 변수들을 각각의 training/test 셋으로 나누기\n",
    "X_train, X_test, y_train, y_test = train_test_split(X, y, test_size=0.2, random_state=5)\n",
    "\n",
    "# 코드를 쓰세요.\n",
    "model = LinearRegression()\n",
    "model.fit(X_train, y_train)\n",
    "y_test_predict = model.predict(X_test)\n",
    "\n",
    "# 실행 코드\n",
    "y_test_predict\n"
   ]
  }
 ],
 "metadata": {
  "kernelspec": {
   "display_name": "Python 3",
   "language": "python",
   "name": "python3"
  },
  "language_info": {
   "codemirror_mode": {
    "name": "ipython",
    "version": 3
   },
   "file_extension": ".py",
   "mimetype": "text/x-python",
   "name": "python",
   "nbconvert_exporter": "python",
   "pygments_lexer": "ipython3",
   "version": "3.8.5"
  },
  "vp": {
   "base_numbering": 1,
   "nav_menu": {},
   "number_sections": true,
   "sideBar": true,
   "title_cell": "VisualPython",
   "title_sidebar": "VisualPython",
   "vpPosition": {
    "height": "calc(100% - 180px)",
    "right": "10px",
    "top": "110px",
    "width": "50%"
   },
   "vp_cell": false,
   "vp_section_display": true,
   "vp_window_display": false
  }
 },
 "nbformat": 4,
 "nbformat_minor": 4
}
