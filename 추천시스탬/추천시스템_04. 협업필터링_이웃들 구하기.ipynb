{
 "cells": [
  {
   "cell_type": "markdown",
   "metadata": {},
   "source": [
    "### 협업필터링"
   ]
  },
  {
   "cell_type": "markdown",
   "metadata": {},
   "source": [
    "이웃구하기"
   ]
  },
  {
   "cell_type": "code",
   "execution_count": 6,
   "metadata": {},
   "outputs": [],
   "source": [
    "import pandas as pd\n",
    "import numpy as np\n",
    "from math import sqrt\n",
    "\n",
    "\n",
    "# 필요한 도구, 상수, 출력 세팅\n",
    "RATING_DATA_PATH = './data/ratings.csv'  # 받아올 평점 데이터 경로 정의\n",
    "np.set_printoptions(precision=2)  # 소수점 둘째 자리까지만 출력"
   ]
  },
  {
   "cell_type": "code",
   "execution_count": 7,
   "metadata": {},
   "outputs": [],
   "source": [
    "def distance(user_1, user_2):\n",
    "    \"\"\"유클리드 거리를 계산해주는 함수\"\"\"\n",
    "    return sqrt(np.sum((user_1 - user_2)**2))"
   ]
  },
  {
   "cell_type": "code",
   "execution_count": 8,
   "metadata": {},
   "outputs": [],
   "source": [
    "def filter_users_without_movie(rating_data, movie_id):\n",
    "    \"\"\"movie_id 번째 영화를 평가하지 않은 유저들은 미리 제외해주는 함수\"\"\"\n",
    "    return rating_data[~np.isnan(rating_data[:,movie_id])]\n",
    "    # ~ 연산자는 비트 단위의 논리 부정(NOT) 연산자"
   ]
  },
  {
   "cell_type": "markdown",
   "metadata": {},
   "source": [
    "filter_users_without_movie 함수는 파라미터로 평점 데이터 행렬과 영화 번호를 받아서 평점 데이터 행렬에서 해당 영화를 평가하지 않은 유저 정보를 미리 다 제거해 주는 함수입니다. 유저의 이웃을 구하는데 이웃들이 원하는 영화에 평점을 안 줬으면 어짜피 사용할 수 없으니까 미리 없애주기 위해 있습니다."
   ]
  },
  {
   "cell_type": "code",
   "execution_count": 9,
   "metadata": {},
   "outputs": [],
   "source": [
    "def fill_nan_with_user_mean(rating_data):\n",
    "    \"\"\"평점 데이터의 빈값들을 각 유저 평균 값으로 체워주는 함수\"\"\"\n",
    "    filled_data = np.copy(rating_data)  # 평점 데이터를 훼손하지 않기 위해 복사\n",
    "    row_mean = np.nanmean(filled_data, axis=1)  # 유저 평균 평점 계산\n",
    "    \n",
    "    inds = np.where(np.isnan(filled_data))  # 비어 있는 인덱스들을 구한다\n",
    "    filled_data[inds] = np.take(row_mean, inds[0])  #빈 인덱스를 유저 평점으로 채운다\n",
    "    \n",
    "    return filled_data"
   ]
  },
  {
   "cell_type": "markdown",
   "metadata": {},
   "source": [
    "평점 데이터 행렬의 빈값들을 각 유저의 평균 평점으로 채워 넣어주는 함수입니다. 이 함수는 파라미터로 평점 데이터 행렬을 받고, 빈값들이 유저의 평균 평점으로 채워진 새로운 행렬을 리턴합니다."
   ]
  },
  {
   "cell_type": "markdown",
   "metadata": {},
   "source": [
    "과제: get_k_neighbors 함수"
   ]
  },
  {
   "cell_type": "markdown",
   "metadata": {},
   "source": [
    "과제로는 위 함수, get_k_neighbors를 구현합니다. get_k_neighbors 함수는 파라미터로 몇 번째 유저인지를 user_id로, 평점 데이터를 rating_data로, 그리고 몇 명의 이웃들을 찾을지를 k로 받습니다. user_id는 그냥 각 행렬 안에서의 순서라고 생각하시면 됩니다. 그리고 user_id의 유저와 가장 가까운 k 명의 유저 평점 데이터를 리턴하죠."
   ]
  },
  {
   "cell_type": "markdown",
   "metadata": {},
   "source": [
    "주의하셔야 될 점은 각 행의 마지막 열은 거리 정보를 저장하는 열이기 때문에 거리 계산에서 제외해 줘야 합니다."
   ]
  },
  {
   "cell_type": "code",
   "execution_count": null,
   "metadata": {},
   "outputs": [],
   "source": [
    "def get_k_neighbors(user_id, rating_data, k):\n",
    "    \"\"\"user_id에 해당하는 유저의 이웃들을 찾아주는 함수\"\"\"\n",
    "    distance_data = np.copy(rating_data)  \n",
    "    # 평점 데이터를 훼손하지 않기 위해 복사\n",
    "    # 마지막에 거리 데이터를 담을 열 추가한다\n",
    "    distance_data = np.append(distance_data, np.zeros((distance_data.shape[0], 1)), axis=1)\n",
    "    \n",
    "    # 코드를 쓰세요.\n",
    "    \n",
    "    # 반복문을 돌면서 user_id 번째 유저가 나올 때는, \n",
    "    # 해당 데이터의 거리 정보는 무한대, np.inf로 저장해 주시면 됩니다.\n",
    "\n",
    "    \n",
    "    # 데이터를 거리 열을 기준으로 정렬한다\n",
    "    distance_data = distance_data[np.argsort(distance_data[:, -1])]\n",
    "    \n",
    "    # 가장 가까운 k개의 행만 리턴한다 + 마지막(거리) 열은 제외한다\n",
    "    return distance_data[:k, :-1]\n",
    "    \n",
    "\n",
    "# 실행 코드\n",
    "# 영화 3을 본 유저들 중, 유저 0와 비슷한 유저 5명을 찾는다\n",
    "rating_data = pd.read_csv(RATING_DATA_PATH, index_col='user_id').values  # 평점 데이터를 불러온다\n",
    "filtered_data = filter_users_without_movie(rating_data, 3)  # 3 번째 영화를 보지 않은 유저를 데이터에서 미리 제외시킨다\n",
    "filled_data = fill_nan_with_user_mean(filtered_data)  # 빈값들이 채워진 새로운 행렬을 만든다\n",
    "user_0_neighbors = get_k_neighbors(0, filled_data, 5)  # 유저 0과 비슷한 5개의 유저 데이터를 찾는다\n",
    "user_0_neighbors"
   ]
  },
  {
   "cell_type": "code",
   "execution_count": 11,
   "metadata": {},
   "outputs": [
    {
     "data": {
      "text/plain": [
       "array([[3.18, 3.18, 3.18, 5.  , 3.18, 3.18, 2.  , 2.  , 2.  , 3.18, 3.  ,\n",
       "        4.  , 2.  , 5.  , 4.  , 3.18, 3.18, 3.18, 4.  , 2.  ],\n",
       "       [3.36, 5.  , 3.36, 5.  , 3.  , 3.36, 3.36, 3.  , 2.  , 4.  , 2.  ,\n",
       "        3.36, 4.  , 4.  , 5.  , 4.  , 2.  , 3.36, 1.  , 3.  ],\n",
       "       [2.71, 2.71, 2.  , 5.  , 2.71, 2.71, 2.71, 2.71, 2.71, 2.71, 2.71,\n",
       "        2.71, 1.  , 2.71, 2.71, 2.71, 3.  , 1.  , 5.  , 2.  ],\n",
       "       [2.78, 5.  , 1.  , 4.  , 2.78, 2.78, 2.78, 3.  , 1.  , 2.78, 1.  ,\n",
       "        2.78, 2.78, 4.  , 2.78, 2.78, 2.  , 2.78, 2.78, 4.  ],\n",
       "       [3.  , 3.  , 3.  , 5.  , 4.  , 3.  , 3.  , 4.  , 5.  , 3.  , 3.  ,\n",
       "        1.  , 2.  , 1.  , 1.  , 3.  , 3.  , 3.  , 4.  , 3.  ]])"
      ]
     },
     "execution_count": 11,
     "metadata": {},
     "output_type": "execute_result"
    }
   ],
   "source": [
    "def get_k_neighbors(user_id, rating_data, k):\n",
    "    \"\"\"user_id에 해당하는 유저의 이웃들을 찾아주는 함수\"\"\"\n",
    "    distance_data = np.copy(rating_data)  \n",
    "    # 평점 데이터를 훼손하지 않기 위해 복사\n",
    "    # 마지막에 거리 데이터를 담을 열 추가한다\n",
    "    distance_data = np.append(distance_data, np.zeros((distance_data.shape[0], 1)), axis=1)\n",
    "    \n",
    "    # 코드를 쓰세요.\n",
    "    for i in range(len(distance_data)):\n",
    "        row = distance_data[i]\n",
    "        \n",
    "    # 반복문을 돌면서 user_id 번째 유저가 나올 때는, \n",
    "    # 해당 데이터의 거리 정보는 무한대, np.inf로 저장해 주시면 됩니다.\n",
    "        if i == user_id: # 같은 유저면 거리를 무한대로 설정 \n",
    "            row[-1] = np.inf\n",
    "            \n",
    "        else: # 다른 유저와 마지막 열에 거리 데이터를 저장 \n",
    "                row[-1] = distance(distance_data[user_id][:-1], row[:-1])\n",
    "            \n",
    "    # 각 행의 마지막 인덱스 : 해당 데이터가 user_id번째 user와 얼마나 \n",
    "    # 가까운지 저장 >> 원하는 user 데이터 자체가 자기 자신의 이웃에 포함되지 않게\n",
    "    # 스스로와의 거리는 무한대(np.inf)로 설정\n",
    "    \n",
    "    # 그게 아니라면, \n",
    "    # 거리를 구하는 함수 distance를 사용해서 user_id번째 유저와의 거리를 계산하고, \n",
    "    # 현재 행의 마지막 인덱스에 저장합니다.\n",
    "    # 주의하셔야 될 점은 각 행의 마지막 열은 거리 정보를 저장하는 열이기 때문에 \n",
    "    # 거리 계산에서 제외해 줘야 합니다\n",
    "       \n",
    "        \n",
    "    \n",
    "    # 데이터를 거리 열을 기준으로 정렬한다\n",
    "    distance_data = distance_data[np.argsort(distance_data[:, -1])]\n",
    "    \n",
    "    # 가장 가까운 k개의 행만 리턴한다 + 마지막(거리) 열은 제외한다\n",
    "    return distance_data[:k, :-1]\n",
    "    \n",
    "\n",
    "# 실행 코드\n",
    "# 영화 3을 본 유저들 중, 유저 0와 비슷한 유저 5명을 찾는다\n",
    "rating_data = pd.read_csv(RATING_DATA_PATH, index_col='user_id').values  # 평점 데이터를 불러온다\n",
    "filtered_data = filter_users_without_movie(rating_data, 3)  # 3 번째 영화를 보지 않은 유저를 데이터에서 미리 제외시킨다\n",
    "filled_data = fill_nan_with_user_mean(filtered_data)  # 빈값들이 채워진 새로운 행렬을 만든다\n",
    "user_0_neighbors = get_k_neighbors(0, filled_data, 5)  # 유저 0과 비슷한 5개의 유저 데이터를 찾는다\n",
    "user_0_neighbors"
   ]
  },
  {
   "cell_type": "markdown",
   "metadata": {},
   "source": [
    "movie_id가 3인 유저를 제외하는 이유는, 해당 영화를 평가하지 않은 유저들은 user_id 0인 유저의 movie_id 3인 영화에 대한 평점을 예측하는 데 사용될 수 없기 때문입니다."
   ]
  },
  {
   "cell_type": "code",
   "execution_count": null,
   "metadata": {},
   "outputs": [],
   "source": []
  }
 ],
 "metadata": {
  "kernelspec": {
   "display_name": "Python 3 (ipykernel)",
   "language": "python",
   "name": "python3"
  },
  "language_info": {
   "codemirror_mode": {
    "name": "ipython",
    "version": 3
   },
   "file_extension": ".py",
   "mimetype": "text/x-python",
   "name": "python",
   "nbconvert_exporter": "python",
   "pygments_lexer": "ipython3",
   "version": "3.9.7"
  },
  "vp": {
   "base_numbering": 1,
   "nav_menu": {},
   "number_sections": true,
   "sideBar": true,
   "title_cell": "VisualPython",
   "title_sidebar": "VisualPython",
   "vpPosition": {
    "height": "calc(100% - 180px)",
    "right": "10px",
    "top": "110px",
    "width": "50%"
   },
   "vp_cell": false,
   "vp_section_display": true,
   "vp_window_display": false
  }
 },
 "nbformat": 4,
 "nbformat_minor": 4
}
