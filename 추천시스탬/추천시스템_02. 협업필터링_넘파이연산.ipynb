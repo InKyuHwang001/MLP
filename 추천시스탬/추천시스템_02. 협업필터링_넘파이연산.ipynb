{
 "cells": [
  {
   "cell_type": "markdown",
   "metadata": {},
   "source": [
    "넘파이 연산 복습"
   ]
  },
  {
   "cell_type": "code",
   "execution_count": 1,
   "metadata": {},
   "outputs": [],
   "source": [
    "import numpy as np\n",
    "\n",
    "A = np.array([\n",
    "    [3, 3, 2, 3, 1],\n",
    "    [5, 2, 2, 3, 1],\n",
    "    [3, 3, 2, 3, 1],\n",
    "    [3, 1, 4, 3, 1],\n",
    "])\n",
    "\n",
    "B = np.array([\n",
    "    [1, 1, 1, 1, 1],\n",
    "    [2, 2, 2, 2, 2],\n",
    "    [3, 3, 3, 3, 3],\n",
    "    [4, 4, 4, 4, 4],\n",
    "])"
   ]
  },
  {
   "cell_type": "code",
   "execution_count": 2,
   "metadata": {},
   "outputs": [
    {
     "data": {
      "text/plain": [
       "array([[4, 4, 3, 4, 2],\n",
       "       [7, 4, 4, 5, 3],\n",
       "       [6, 6, 5, 6, 4],\n",
       "       [7, 5, 8, 7, 5]])"
      ]
     },
     "execution_count": 2,
     "metadata": {},
     "output_type": "execute_result"
    }
   ],
   "source": [
    "A + B"
   ]
  },
  {
   "cell_type": "code",
   "execution_count": 3,
   "metadata": {},
   "outputs": [
    {
     "data": {
      "text/plain": [
       "array([[ 2,  2,  1,  2,  0],\n",
       "       [ 3,  0,  0,  1, -1],\n",
       "       [ 0,  0, -1,  0, -2],\n",
       "       [-1, -3,  0, -1, -3]])"
      ]
     },
     "execution_count": 3,
     "metadata": {},
     "output_type": "execute_result"
    }
   ],
   "source": [
    "A - B"
   ]
  },
  {
   "cell_type": "code",
   "execution_count": 4,
   "metadata": {},
   "outputs": [
    {
     "data": {
      "text/plain": [
       "array([[ 3,  3,  2,  3,  1],\n",
       "       [10,  4,  4,  6,  2],\n",
       "       [ 9,  9,  6,  9,  3],\n",
       "       [12,  4, 16, 12,  4]])"
      ]
     },
     "execution_count": 4,
     "metadata": {},
     "output_type": "execute_result"
    }
   ],
   "source": [
    "A * B"
   ]
  },
  {
   "cell_type": "code",
   "execution_count": 5,
   "metadata": {},
   "outputs": [
    {
     "data": {
      "text/plain": [
       "array([[3.        , 3.        , 2.        , 3.        , 1.        ],\n",
       "       [2.5       , 1.        , 1.        , 1.5       , 0.5       ],\n",
       "       [1.        , 1.        , 0.66666667, 1.        , 0.33333333],\n",
       "       [0.75      , 0.25      , 1.        , 0.75      , 0.25      ]])"
      ]
     },
     "execution_count": 5,
     "metadata": {},
     "output_type": "execute_result"
    }
   ],
   "source": [
    "A / B"
   ]
  },
  {
   "cell_type": "markdown",
   "metadata": {},
   "source": [
    "보시는 것과 같이 각 연산이 같은 행과 열에 있는 원소들에 적용된 걸 확인할 수 있습니다. 같은 위치의 원소들에 연산이 적용되기 때문에 항상 연산 앞과 뒤에 오는 행렬들의 차원이 일치해야만 합니다. 그렇지 않으면 오류가 나게 되죠."
   ]
  },
  {
   "cell_type": "markdown",
   "metadata": {},
   "source": [
    "numpy에서는 비어있는 값/요소를 nan으로 표시하는데요. 사칙 연산의 앞이나 뒤 행렬 중 하나라도 nan 값이 있으면 결괏값에 원소도 nan으로 표시가 됩니다."
   ]
  },
  {
   "cell_type": "code",
   "execution_count": 6,
   "metadata": {},
   "outputs": [],
   "source": [
    "A = np.array([\n",
    "    [3, 3, 2, 3, 1],\n",
    "    [5, 2, 2, 3, 1],\n",
    "    [3, 3, np.nan, 3, 1],\n",
    "    [3, 1, 4, 3, 1],\n",
    "])\n",
    "\n",
    "B = np.array([\n",
    "    [1, np.nan, 1, 1, 1],\n",
    "    [2, 2, 2, 2, 2],\n",
    "    [3, 3, 3, 3, 3],\n",
    "    [np.nan, 4, 4, 4, 4],\n",
    "])"
   ]
  },
  {
   "cell_type": "code",
   "execution_count": 7,
   "metadata": {},
   "outputs": [
    {
     "data": {
      "text/plain": [
       "array([[ 4., nan,  3.,  4.,  2.],\n",
       "       [ 7.,  4.,  4.,  5.,  3.],\n",
       "       [ 6.,  6., nan,  6.,  4.],\n",
       "       [nan,  5.,  8.,  7.,  5.]])"
      ]
     },
     "execution_count": 7,
     "metadata": {},
     "output_type": "execute_result"
    }
   ],
   "source": [
    "A + B"
   ]
  },
  {
   "cell_type": "markdown",
   "metadata": {},
   "source": [
    "넘파이 행렬 곱셈"
   ]
  },
  {
   "cell_type": "markdown",
   "metadata": {},
   "source": [
    "스칼라 곱\n",
    "- numpy 행렬 모든 원소에 하나의 숫자를 곱해주고 싶을 때는 \n",
    "-그냥 행렬과 숫자를 * 연산자를 사용해서 곱해주면 됩니다. 이렇게 말이죠"
   ]
  },
  {
   "cell_type": "code",
   "execution_count": 9,
   "metadata": {},
   "outputs": [
    {
     "data": {
      "text/plain": [
       "array([[ 3.,  3.,  2.,  3.,  1.],\n",
       "       [ 5.,  2.,  2.,  3.,  1.],\n",
       "       [ 3.,  3., nan,  3.,  1.],\n",
       "       [ 3.,  1.,  4.,  3.,  1.]])"
      ]
     },
     "execution_count": 9,
     "metadata": {},
     "output_type": "execute_result"
    }
   ],
   "source": [
    "A"
   ]
  },
  {
   "cell_type": "code",
   "execution_count": 8,
   "metadata": {
    "scrolled": true
   },
   "outputs": [
    {
     "data": {
      "text/plain": [
       "array([[15., 15., 10., 15.,  5.],\n",
       "       [25., 10., 10., 15.,  5.],\n",
       "       [15., 15., nan, 15.,  5.],\n",
       "       [15.,  5., 20., 15.,  5.]])"
      ]
     },
     "execution_count": 8,
     "metadata": {},
     "output_type": "execute_result"
    }
   ],
   "source": [
    "5 * A"
   ]
  },
  {
   "cell_type": "markdown",
   "metadata": {},
   "source": [
    "@ 연산자\n",
    "- 두 행렬을 그냥 곱하고 싶을 때는 @ 연산자를 사용하면 됩니다. 행렬 A와 B를 곱해볼게요."
   ]
  },
  {
   "cell_type": "code",
   "execution_count": 10,
   "metadata": {},
   "outputs": [],
   "source": [
    "A = np.array([\n",
    "    [3, 3, 2, 3, 1],\n",
    "    [5, 2, 2, 3, 1],\n",
    "    [3, 3, 2, 3, 1],\n",
    "    [3, 1, 4, 3, 1],\n",
    "])\n",
    "\n",
    "B = np.array([\n",
    "    [1, 2, 3, 4, 5],\n",
    "    [1, 2, 3, 4, 5],\n",
    "    [1, 2, 3, 4, 5],\n",
    "    [1, 2, 3, 4, 5],\n",
    "    [1, 2, 3, 4, 5],\n",
    "])\n"
   ]
  },
  {
   "cell_type": "code",
   "execution_count": 11,
   "metadata": {},
   "outputs": [
    {
     "data": {
      "text/plain": [
       "array([[12, 24, 36, 48, 60],\n",
       "       [13, 26, 39, 52, 65],\n",
       "       [12, 24, 36, 48, 60],\n",
       "       [12, 24, 36, 48, 60]])"
      ]
     },
     "execution_count": 11,
     "metadata": {},
     "output_type": "execute_result"
    }
   ],
   "source": [
    "A @ B"
   ]
  },
  {
   "cell_type": "markdown",
   "metadata": {},
   "source": [
    "numpy 기본 함수들"
   ]
  },
  {
   "cell_type": "markdown",
   "metadata": {},
   "source": [
    "np.sum 함수\n",
    "- np.sum함수는 파라미터로 넘겨주는 행렬 안에 있는 모든 원소들의 합을 구해주는 함수입니다."
   ]
  },
  {
   "cell_type": "code",
   "execution_count": 12,
   "metadata": {},
   "outputs": [
    {
     "data": {
      "text/plain": [
       "49"
      ]
     },
     "execution_count": 12,
     "metadata": {},
     "output_type": "execute_result"
    }
   ],
   "source": [
    "A = np.array([\n",
    "    [3, 3, 2, 3, 1],\n",
    "    [5, 2, 2, 3, 1],\n",
    "    [3, 3, 2, 3, 1],\n",
    "    [3, 1, 4, 3, 1],\n",
    "])\n",
    "\n",
    "np.sum(A)"
   ]
  },
  {
   "cell_type": "markdown",
   "metadata": {},
   "source": [
    "그렇지만 행렬 안에 nan 값이 있으면 항상 np.sum 함수도 nan을 리턴하는데요. nan 값들만 제외하고 계산을 하고 싶을 때는 np.nansum이라는 함수를 사용하면 됩니다."
   ]
  },
  {
   "cell_type": "code",
   "execution_count": 13,
   "metadata": {},
   "outputs": [
    {
     "data": {
      "text/plain": [
       "47.0"
      ]
     },
     "execution_count": 13,
     "metadata": {},
     "output_type": "execute_result"
    }
   ],
   "source": [
    "A = np.array([\n",
    "    [3, 3, 2, 3, 1],\n",
    "    [5, 2, 2, 3, 1],\n",
    "    [3, 3, np.nan, 3, 1],\n",
    "    [3, 1, 4, 3, 1],\n",
    "])\n",
    "\n",
    "np.nansum(A)"
   ]
  },
  {
   "cell_type": "markdown",
   "metadata": {},
   "source": [
    "이렇게 nan을 제외한 다른 모든 원소들의 합이 리턴되죠. 이번 토픽에서는 이 np.nansum 함수를 사용하니까 어떤 의미인지 잊지 마세요!"
   ]
  },
  {
   "cell_type": "markdown",
   "metadata": {},
   "source": [
    "np.mean 함수\n",
    "- np.mean 함수는 행렬의 모든 원소들의 평균 값을 계산해 주는 함수입니다."
   ]
  },
  {
   "cell_type": "code",
   "execution_count": 14,
   "metadata": {},
   "outputs": [
    {
     "data": {
      "text/plain": [
       "2.45"
      ]
     },
     "execution_count": 14,
     "metadata": {},
     "output_type": "execute_result"
    }
   ],
   "source": [
    "A = np.array([\n",
    "    [3, 3, 2, 3, 1],\n",
    "    [5, 2, 2, 3, 1],\n",
    "    [3, 3, 2, 3, 1],\n",
    "    [3, 1, 4, 3, 1],\n",
    "])\n",
    "\n",
    "np.mean(A)"
   ]
  },
  {
   "cell_type": "markdown",
   "metadata": {},
   "source": [
    "이렇게 말이죠. np.sum과 마찬가지로 원소 중 단 한 개라도 nan 값이면 결과도 nan이 되는데요. 그럴 때는 똑같이, np.nanmean 함수를 사용할 수 있습니다. nan인 원소를 제외한 다른 모든 원소들의 평균값을 계산할 수 있죠. 이렇게요:"
   ]
  },
  {
   "cell_type": "code",
   "execution_count": 15,
   "metadata": {},
   "outputs": [
    {
     "data": {
      "text/plain": [
       "2.473684210526316"
      ]
     },
     "execution_count": 15,
     "metadata": {},
     "output_type": "execute_result"
    }
   ],
   "source": [
    "A = np.array([\n",
    "    [3, 3, 2, 3, 1],\n",
    "    [5, 2, 2, 3, 1],\n",
    "    [3, 3, np.nan, 3, 1],\n",
    "    [3, 1, 4, 3, 1],\n",
    "])\n",
    "\n",
    "np.nanmean(A)"
   ]
  },
  {
   "cell_type": "markdown",
   "metadata": {},
   "source": [
    "numpy 행렬 접근법"
   ]
  },
  {
   "cell_type": "markdown",
   "metadata": {},
   "source": [
    "기본 인덱스 접근법\n",
    "- numpy 행렬 안에 있는 세부 데이터는 인덱스를 사용해서 접근합니다.\n",
    "- 예를 들어 A의 0 번째 행에 접근하고 싶으면, A[0], 3 번째 행에 접근하고 싶으면 A[3] 이렇게요."
   ]
  },
  {
   "cell_type": "code",
   "execution_count": 17,
   "metadata": {},
   "outputs": [
    {
     "name": "stdout",
     "output_type": "stream",
     "text": [
      "[3 3 2 3 1]\n",
      "[3 1 4 3 1]\n"
     ]
    }
   ],
   "source": [
    "A = np.array([\n",
    "    [3, 3, 2, 3, 1],\n",
    "    [5, 2, 2, 3, 1],\n",
    "    [3, 3, 2, 3, 1],\n",
    "    [3, 1, 4, 3, 1],\n",
    "])\n",
    "\n",
    "print(A[0])  # array([3, 3, 2, 3, 1]) 리턴\n",
    "print(A[3])  # array([3, 1, 4, 3, 1]) 리턴"
   ]
  },
  {
   "cell_type": "markdown",
   "metadata": {},
   "source": [
    "그리고 0 행 2열에 접근하고 싶을 때는 A[0][3]. 1행 1열에는 A[1][1] 이렇게 해주면 되죠. 쉽죠?"
   ]
  },
  {
   "cell_type": "markdown",
   "metadata": {},
   "source": [
    "열 접근법\n",
    "- 그럼 열에 접근하고 싶으면 어떻게 할까요? 3열에 접근하고 싶을 때는 이렇게 하면 되죠. A[:, 3]"
   ]
  },
  {
   "cell_type": "code",
   "execution_count": 18,
   "metadata": {},
   "outputs": [
    {
     "data": {
      "text/plain": [
       "array([3, 3, 3, 3])"
      ]
     },
     "execution_count": 18,
     "metadata": {},
     "output_type": "execute_result"
    }
   ],
   "source": [
    "A[:, 3]  # array([3, 3, 3, 3])`"
   ]
  },
  {
   "cell_type": "code",
   "execution_count": 19,
   "metadata": {},
   "outputs": [
    {
     "data": {
      "text/plain": [
       "array([3, 1, 4, 3, 1])"
      ]
     },
     "execution_count": 19,
     "metadata": {},
     "output_type": "execute_result"
    }
   ],
   "source": [
    "A[3, :]  # array([3, 1, 4, 3, 1]) 리턴"
   ]
  }
 ],
 "metadata": {
  "kernelspec": {
   "display_name": "Python 3 (ipykernel)",
   "language": "python",
   "name": "python3"
  },
  "language_info": {
   "codemirror_mode": {
    "name": "ipython",
    "version": 3
   },
   "file_extension": ".py",
   "mimetype": "text/x-python",
   "name": "python",
   "nbconvert_exporter": "python",
   "pygments_lexer": "ipython3",
   "version": "3.9.7"
  },
  "vp": {
   "base_numbering": 1,
   "nav_menu": {},
   "number_sections": true,
   "sideBar": true,
   "title_cell": "VisualPython",
   "title_sidebar": "VisualPython",
   "vpPosition": {
    "height": "calc(100% - 180px)",
    "right": "10px",
    "top": "110px",
    "width": "50%"
   },
   "vp_cell": false,
   "vp_section_display": true,
   "vp_window_display": false
  }
 },
 "nbformat": 4,
 "nbformat_minor": 4
}
