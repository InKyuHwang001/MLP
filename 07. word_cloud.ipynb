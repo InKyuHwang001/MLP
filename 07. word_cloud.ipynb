{
 "cells": [
  {
   "cell_type": "markdown",
   "metadata": {
    "ExecuteTime": {
     "end_time": "2022-03-13T16:14:50.237712Z",
     "start_time": "2022-03-13T16:14:49.657281Z"
    }
   },
   "source": [
    "---\n",
    "# 데이터 불러오기\n",
    "---"
   ]
  },
  {
   "cell_type": "code",
   "execution_count": 2,
   "metadata": {
    "ExecuteTime": {
     "end_time": "2022-03-13T16:14:50.237712Z",
     "start_time": "2022-03-13T16:14:49.657281Z"
    }
   },
   "outputs": [],
   "source": [
    "import pandas as pd\n",
    "df = pd.read_csv('../data/smartphone.csv', encoding='utf-8')\n",
    "galaxy_posts = df.get('Title') + \" \" + df.get('Description')"
   ]
  },
  {
   "cell_type": "code",
   "execution_count": 3,
   "metadata": {
    "ExecuteTime": {
     "end_time": "2022-03-13T16:14:52.031702Z",
     "start_time": "2022-03-13T16:14:52.006768Z"
    }
   },
   "outputs": [
    {
     "data": {
      "text/html": [
       "<div>\n",
       "<style scoped>\n",
       "    .dataframe tbody tr th:only-of-type {\n",
       "        vertical-align: middle;\n",
       "    }\n",
       "\n",
       "    .dataframe tbody tr th {\n",
       "        vertical-align: top;\n",
       "    }\n",
       "\n",
       "    .dataframe thead th {\n",
       "        text-align: right;\n",
       "    }\n",
       "</style>\n",
       "<table border=\"1\" class=\"dataframe\">\n",
       "  <thead>\n",
       "    <tr style=\"text-align: right;\">\n",
       "      <th></th>\n",
       "      <th>Title</th>\n",
       "      <th>Link</th>\n",
       "      <th>Description</th>\n",
       "      <th>Blogger Name</th>\n",
       "      <th>Blogger Link</th>\n",
       "      <th>Post Date</th>\n",
       "      <th>Post Contents</th>\n",
       "    </tr>\n",
       "  </thead>\n",
       "  <tbody>\n",
       "    <tr>\n",
       "      <th>0</th>\n",
       "      <td>ZEM 초등학생 스마트폰 관리앱으로 걱정 덜어요</td>\n",
       "      <td>https://blog.naver.com/rladbrud8791?Redirect=L...</td>\n",
       "      <td>사실 제가 최근까지도 고민하고 있었던 부분이 바로 아이의 스마트폰 필요성 때문인데요...</td>\n",
       "      <td>갱이랑 정이랑♡</td>\n",
       "      <td>https://blog.naver.com/rladbrud8791</td>\n",
       "      <td>20220226</td>\n",
       "      <td>\\n\\n\\n\\n\\n\\n\\n리뷰\\n\\n\\n\\n\\nZEM 초등학생 스마트폰 관리앱으로 ...</td>\n",
       "    </tr>\n",
       "    <tr>\n",
       "      <th>1</th>\n",
       "      <td>아이폰 SE3 사전예약 출시일 가격 정보! 애플의 보급형 스마트폰</td>\n",
       "      <td>https://blog.naver.com/hongganz?Redirect=Log&amp;l...</td>\n",
       "      <td>애플의 보급형 스마트폰 아이폰 SE3 가 출시한다. 보통 대부분의 스마트폰들은 급나...</td>\n",
       "      <td>이웃삼촌이 들려주는 IT 이야기</td>\n",
       "      <td>https://blog.naver.com/hongganz</td>\n",
       "      <td>20220313</td>\n",
       "      <td>\\n\\n\\n\\n\\n\\n\\n\\n\\n\\n출시 정보\\n\\n\\n\\n\\n아이폰 SE3 사전예...</td>\n",
       "    </tr>\n",
       "    <tr>\n",
       "      <th>2</th>\n",
       "      <td>왜 다들 스마트폰 삼각대 추천 하는지 궁금해서 써본 후기</td>\n",
       "      <td>https://blog.naver.com/tnwpqla?Redirect=Log&amp;lo...</td>\n",
       "      <td>하다가 스마트폰 삼각대 를 구매를 해야겠단 생각을 해서 제대로 된 것을 알아보려고 ...</td>\n",
       "      <td>초컬렛::대학생 블로그</td>\n",
       "      <td>https://blog.naver.com/tnwpqla</td>\n",
       "      <td>20220310</td>\n",
       "      <td>\\n\\n\\n\\n\\n\\n\\n협찬+포스팅알바\\n\\n\\n\\n\\n왜 다들 스마트폰 삼각대 ...</td>\n",
       "    </tr>\n",
       "    <tr>\n",
       "      <th>3</th>\n",
       "      <td>스마트폰 백업 필요하다면 네이버 마이박스(MY BOX)로!</td>\n",
       "      <td>https://blog.naver.com/dogslife78?Redirect=Log...</td>\n",
       "      <td>최근 컴퓨터나 노트북 뿐만 아니라 항상 소지하고 다니는 스마트폰이나 태블릿과 같은 ...</td>\n",
       "      <td>노숙페이스</td>\n",
       "      <td>https://blog.naver.com/dogslife78</td>\n",
       "      <td>20220301</td>\n",
       "      <td>\\n\\n\\n\\n\\n\\n\\n가전, 그리고 IT\\n\\n\\n\\n\\n스마트폰 백업 필요하다...</td>\n",
       "    </tr>\n",
       "    <tr>\n",
       "      <th>4</th>\n",
       "      <td>맥갤럭시 스마트폰 연결, 백업</td>\n",
       "      <td>https://blog.naver.com/yhj5738?Redirect=Log&amp;lo...</td>\n",
       "      <td>스마트폰에 스마트 스위치 앱이 설치되지 않을 경우에는 맥에서 Smaert Switc...</td>\n",
       "      <td>Dream girl's life</td>\n",
       "      <td>https://blog.naver.com/yhj5738</td>\n",
       "      <td>20220304</td>\n",
       "      <td>\\n\\n\\n\\n\\n\\n\\n관리방법\\n\\n\\n\\n\\n맥갤럭시 스마트폰 연결, 백업 \\...</td>\n",
       "    </tr>\n",
       "  </tbody>\n",
       "</table>\n",
       "</div>"
      ],
      "text/plain": [
       "                                  Title  \\\n",
       "0            ZEM 초등학생 스마트폰 관리앱으로 걱정 덜어요   \n",
       "1  아이폰 SE3 사전예약 출시일 가격 정보! 애플의 보급형 스마트폰   \n",
       "2       왜 다들 스마트폰 삼각대 추천 하는지 궁금해서 써본 후기   \n",
       "3      스마트폰 백업 필요하다면 네이버 마이박스(MY BOX)로!   \n",
       "4                      맥갤럭시 스마트폰 연결, 백업   \n",
       "\n",
       "                                                Link  \\\n",
       "0  https://blog.naver.com/rladbrud8791?Redirect=L...   \n",
       "1  https://blog.naver.com/hongganz?Redirect=Log&l...   \n",
       "2  https://blog.naver.com/tnwpqla?Redirect=Log&lo...   \n",
       "3  https://blog.naver.com/dogslife78?Redirect=Log...   \n",
       "4  https://blog.naver.com/yhj5738?Redirect=Log&lo...   \n",
       "\n",
       "                                         Description       Blogger Name  \\\n",
       "0  사실 제가 최근까지도 고민하고 있었던 부분이 바로 아이의 스마트폰 필요성 때문인데요...           갱이랑 정이랑♡   \n",
       "1  애플의 보급형 스마트폰 아이폰 SE3 가 출시한다. 보통 대부분의 스마트폰들은 급나...  이웃삼촌이 들려주는 IT 이야기   \n",
       "2  하다가 스마트폰 삼각대 를 구매를 해야겠단 생각을 해서 제대로 된 것을 알아보려고 ...       초컬렛::대학생 블로그   \n",
       "3  최근 컴퓨터나 노트북 뿐만 아니라 항상 소지하고 다니는 스마트폰이나 태블릿과 같은 ...              노숙페이스   \n",
       "4  스마트폰에 스마트 스위치 앱이 설치되지 않을 경우에는 맥에서 Smaert Switc...  Dream girl's life   \n",
       "\n",
       "                          Blogger Link  Post Date  \\\n",
       "0  https://blog.naver.com/rladbrud8791   20220226   \n",
       "1      https://blog.naver.com/hongganz   20220313   \n",
       "2       https://blog.naver.com/tnwpqla   20220310   \n",
       "3    https://blog.naver.com/dogslife78   20220301   \n",
       "4       https://blog.naver.com/yhj5738   20220304   \n",
       "\n",
       "                                       Post Contents  \n",
       "0  \\n\\n\\n\\n\\n\\n\\n리뷰\\n\\n\\n\\n\\nZEM 초등학생 스마트폰 관리앱으로 ...  \n",
       "1  \\n\\n\\n\\n\\n\\n\\n\\n\\n\\n출시 정보\\n\\n\\n\\n\\n아이폰 SE3 사전예...  \n",
       "2  \\n\\n\\n\\n\\n\\n\\n협찬+포스팅알바\\n\\n\\n\\n\\n왜 다들 스마트폰 삼각대 ...  \n",
       "3  \\n\\n\\n\\n\\n\\n\\n가전, 그리고 IT\\n\\n\\n\\n\\n스마트폰 백업 필요하다...  \n",
       "4  \\n\\n\\n\\n\\n\\n\\n관리방법\\n\\n\\n\\n\\n맥갤럭시 스마트폰 연결, 백업 \\...  "
      ]
     },
     "execution_count": 3,
     "metadata": {},
     "output_type": "execute_result"
    }
   ],
   "source": [
    "df.head()"
   ]
  },
  {
   "cell_type": "code",
   "execution_count": 4,
   "metadata": {
    "ExecuteTime": {
     "end_time": "2022-03-13T16:18:15.873993Z",
     "start_time": "2022-03-13T16:18:15.856041Z"
    }
   },
   "outputs": [
    {
     "data": {
      "text/plain": [
       "0    ZEM 초등학생 스마트폰 관리앱으로 걱정 덜어요 사실 제가 최근까지도 고민하고 있었...\n",
       "1    아이폰 SE3 사전예약 출시일 가격 정보! 애플의 보급형 스마트폰 애플의 보급형 스...\n",
       "2    왜 다들 스마트폰 삼각대 추천 하는지 궁금해서 써본 후기 하다가 스마트폰 삼각대 를...\n",
       "3    스마트폰 백업 필요하다면 네이버 마이박스(MY BOX)로! 최근 컴퓨터나 노트북 뿐...\n",
       "4    맥갤럭시 스마트폰 연결, 백업 스마트폰에 스마트 스위치 앱이 설치되지 않을 경우에는...\n",
       "dtype: object"
      ]
     },
     "execution_count": 4,
     "metadata": {},
     "output_type": "execute_result"
    }
   ],
   "source": [
    "galaxy_posts.head()"
   ]
  },
  {
   "cell_type": "markdown",
   "metadata": {
    "ExecuteTime": {
     "end_time": "2022-03-13T16:15:02.156604Z",
     "start_time": "2022-03-13T16:15:02.087789Z"
    }
   },
   "source": [
    "# 불용어 제거"
   ]
  },
  {
   "cell_type": "code",
   "execution_count": 6,
   "metadata": {
    "ExecuteTime": {
     "end_time": "2022-03-13T16:15:02.156604Z",
     "start_time": "2022-03-13T16:15:02.087789Z"
    }
   },
   "outputs": [],
   "source": [
    "from eunjeon import Mecab\n",
    "tagger = Mecab()"
   ]
  },
  {
   "cell_type": "code",
   "execution_count": 7,
   "metadata": {
    "ExecuteTime": {
     "end_time": "2022-03-13T16:18:45.740101Z",
     "start_time": "2022-03-13T16:18:45.727136Z"
    }
   },
   "outputs": [
    {
     "data": {
      "text/plain": [
       "['은', '이', '것', '등', '더', '를', '좀', '즉', '인', '옹']"
      ]
     },
     "execution_count": 7,
     "metadata": {},
     "output_type": "execute_result"
    }
   ],
   "source": [
    "galaxy_stop_words = \"은 이 것 등 더 를 좀 즉 인 옹 때 만 원 이때 개 일 기 시 럭 갤 성 삼 스 폰 트 드 기 이 리 폴 사 전 마 자 플 블 가 중 북 수 팩 년 월 저 탭\"\n",
    "galaxy_stop_words = galaxy_stop_words.split(' ')\n",
    "galaxy_stop_words[0:10]"
   ]
  },
  {
   "cell_type": "markdown",
   "metadata": {
    "ExecuteTime": {
     "end_time": "2022-03-13T16:18:59.184432Z",
     "start_time": "2022-03-13T16:18:58.958339Z"
    }
   },
   "source": [
    "# 명사만 추출 "
   ]
  },
  {
   "cell_type": "code",
   "execution_count": 8,
   "metadata": {
    "ExecuteTime": {
     "end_time": "2022-03-13T16:18:59.184432Z",
     "start_time": "2022-03-13T16:18:58.958339Z"
    }
   },
   "outputs": [
    {
     "data": {
      "text/plain": [
       "['초등학생', '스마트폰', '관리', '앱', '걱정', '제', '최근', '고민', '부분', '아이']"
      ]
     },
     "execution_count": 8,
     "metadata": {},
     "output_type": "execute_result"
    }
   ],
   "source": [
    "galaxy_nouns = []\n",
    "for post in galaxy_posts:\n",
    "    for noun in tagger.nouns(post):\n",
    "        if noun not in galaxy_stop_words: #불용어가 아니라면\n",
    "            galaxy_nouns.append(noun)\n",
    "            \n",
    "galaxy_nouns[0:10]"
   ]
  },
  {
   "cell_type": "code",
   "execution_count": 9,
   "metadata": {
    "ExecuteTime": {
     "end_time": "2022-03-13T16:19:28.046352Z",
     "start_time": "2022-03-13T16:19:28.023414Z"
    }
   },
   "outputs": [
    {
     "data": {
      "text/plain": [
       "{'스마트폰': 3133,\n",
       " '강의': 381,\n",
       " '사진': 370,\n",
       " '사용': 316,\n",
       " '갤럭시': 268,\n",
       " '카메라': 212,\n",
       " '동영상': 204,\n",
       " '앱': 190,\n",
       " '제작': 184,\n",
       " '유튜브': 184,\n",
       " '삼성': 180,\n",
       " '반응': 177,\n",
       " '스마트': 176,\n",
       " '활용': 170,\n",
       " '촬영': 165,\n",
       " '방법': 164,\n",
       " '안드로이드': 133,\n",
       " '화면': 117,\n",
       " '강': 116,\n",
       " '영상': 109}"
      ]
     },
     "execution_count": 9,
     "metadata": {},
     "output_type": "execute_result"
    }
   ],
   "source": [
    "from collections import Counter\n",
    "# 시퀀스 자료형의 데이터 요소 개수를 딕셔너리 형태로 반환하는 자료구조\n",
    "    # 요소 중 값이 같은 것이 몇 개인지 반환한다.\n",
    "num_top_nouns = 20\n",
    "galaxy_nouns_counter = Counter(galaxy_nouns)\n",
    "galaxy_top_nouns = dict(galaxy_nouns_counter.most_common(num_top_nouns)) # dict() 저장 \n",
    "galaxy_top_nouns"
   ]
  },
  {
   "cell_type": "markdown",
   "metadata": {
    "ExecuteTime": {
     "end_time": "2022-03-13T15:58:13.308595Z",
     "start_time": "2022-03-13T15:58:10.203476Z"
    }
   },
   "source": [
    "#  워드 크라우드"
   ]
  },
  {
   "cell_type": "code",
   "execution_count": null,
   "metadata": {
    "ExecuteTime": {
     "end_time": "2022-03-13T15:58:13.308595Z",
     "start_time": "2022-03-13T15:58:10.203476Z"
    }
   },
   "outputs": [],
   "source": [
    "#!pip install wordcloud"
   ]
  },
  {
   "cell_type": "code",
   "execution_count": 10,
   "metadata": {
    "ExecuteTime": {
     "end_time": "2022-03-13T16:37:01.022786Z",
     "start_time": "2022-03-13T16:37:00.539080Z"
    }
   },
   "outputs": [
    {
     "data": {
      "text/plain": [
       "<wordcloud.wordcloud.WordCloud at 0x1d2f4691b50>"
      ]
     },
     "execution_count": 10,
     "metadata": {},
     "output_type": "execute_result"
    }
   ],
   "source": [
    "from wordcloud import WordCloud\n",
    "\n",
    "font = 'C:/Users/nadai/code/MLP/NanumBarunGothic.ttf'\n",
    "\n",
    "galaxy_wc = WordCloud(background_color=\"white\", font_path=font)\n",
    "galaxy_wc.generate_from_frequencies(galaxy_top_nouns)"
   ]
  },
  {
   "cell_type": "code",
   "execution_count": 11,
   "metadata": {
    "ExecuteTime": {
     "end_time": "2022-03-13T16:37:17.485664Z",
     "start_time": "2022-03-13T16:37:17.300269Z"
    }
   },
   "outputs": [
    {
     "data": {
      "text/plain": [
       "<matplotlib.image.AxesImage at 0x1d2f67d7760>"
      ]
     },
     "execution_count": 11,
     "metadata": {},
     "output_type": "execute_result"
    },
    {
     "data": {
      "image/png": "[encoded data removed]",
      "text/plain": [
       "<Figure size 720x720 with 1 Axes>"
      ]
     },
     "metadata": {
      "needs_background": "light"
     },
     "output_type": "display_data"
    }
   ],
   "source": [
    "import matplotlib.pyplot as plt\n",
    "figure = plt.figure()\n",
    "figure.set_size_inches(10, 10)\n",
    "ax = figure.add_subplot(1, 1, 1)\n",
    "ax.axis(\"off\")\n",
    "ax.imshow(galaxy_wc)"
   ]
  },
  {
   "cell_type": "markdown",
   "metadata": {},
   "source": [
    "# 카운트 기반 단어표현 tf-idf"
   ]
  },
  {
   "cell_type": "markdown",
   "metadata": {},
   "source": [
    "- 요약\n",
    "    - 값을 곱한 tf-idf는 \n",
    "    - 1에 가까울 수록 중요도가 높고 \n",
    "    - 0에 가까울 수록 중요도가 낮음"
   ]
  },
  {
   "cell_type": "markdown",
   "metadata": {},
   "source": [
    "- 1.TF-IDF(단어 빈도-역 문서 빈도, Term Frequency-Inverse Document Frequency)\n",
    "    - 단어의 빈도와 역 문서 빈도를 사용하여 DTM 내의 각 단어들마다 중요한 정도를 가중치로 주는 방법\n",
    "    - 사용 예:\n",
    "        - 문서의 유사도를 구하는 작업 \n",
    "        - 검색 시스템에서 검색 결과의 중요도를 정하는 작업\n",
    "        - 문서 내에서 특정 단어의 중요도를 구하는 작업\n",
    "    - tf(d,t) : 특정 문서 d에서의 특정 단어 t의 등장 횟수\n",
    "    - df(t) : 특정 단어 t가 등장한 문서의 수\n",
    "    - idf(d, t) : df(t)에 반비례하는 수"
   ]
  },
  {
   "cell_type": "code",
   "execution_count": 12,
   "metadata": {
    "ExecuteTime": {
     "end_time": "2022-03-13T16:37:41.789589Z",
     "start_time": "2022-03-13T16:37:41.740723Z"
    }
   },
   "outputs": [
    {
     "data": {
      "text/plain": [
       "array([[0.        , 0.        , 0.        , ..., 0.        , 0.        ,\n",
       "        0.        ],\n",
       "       [0.        , 0.        , 0.        , ..., 0.        , 0.        ,\n",
       "        0.        ],\n",
       "       [0.        , 0.        , 0.        , ..., 0.        , 0.        ,\n",
       "        0.        ],\n",
       "       ...,\n",
       "       [0.        , 0.        , 0.        , ..., 0.        , 0.        ,\n",
       "        0.        ],\n",
       "       [0.        , 0.        , 0.57735027, ..., 0.        , 0.        ,\n",
       "        0.        ],\n",
       "       [0.        , 0.        , 0.        , ..., 0.70710678, 0.        ,\n",
       "        0.        ]])"
      ]
     },
     "execution_count": 12,
     "metadata": {},
     "output_type": "execute_result"
    }
   ],
   "source": [
    "from sklearn.feature_extraction.text import TfidfVectorizer\n",
    "galaxy_tfidv = TfidfVectorizer().fit(galaxy_top_nouns)\n",
    "galaxy_tfidv.transform(galaxy_posts).toarray()"
   ]
  },
  {
   "cell_type": "code",
   "execution_count": 13,
   "metadata": {
    "ExecuteTime": {
     "end_time": "2022-03-13T16:37:50.561304Z",
     "start_time": "2022-03-13T16:37:50.499470Z"
    }
   },
   "outputs": [
    {
     "data": {
      "text/html": [
       "<div>\n",
       "<style scoped>\n",
       "    .dataframe tbody tr th:only-of-type {\n",
       "        vertical-align: middle;\n",
       "    }\n",
       "\n",
       "    .dataframe tbody tr th {\n",
       "        vertical-align: top;\n",
       "    }\n",
       "\n",
       "    .dataframe thead th {\n",
       "        text-align: right;\n",
       "    }\n",
       "</style>\n",
       "<table border=\"1\" class=\"dataframe\">\n",
       "  <thead>\n",
       "    <tr style=\"text-align: right;\">\n",
       "      <th></th>\n",
       "      <th>0</th>\n",
       "      <th>1</th>\n",
       "      <th>2</th>\n",
       "      <th>3</th>\n",
       "      <th>4</th>\n",
       "      <th>5</th>\n",
       "      <th>6</th>\n",
       "      <th>7</th>\n",
       "      <th>8</th>\n",
       "      <th>9</th>\n",
       "      <th>10</th>\n",
       "      <th>11</th>\n",
       "      <th>12</th>\n",
       "      <th>13</th>\n",
       "      <th>14</th>\n",
       "      <th>15</th>\n",
       "      <th>16</th>\n",
       "      <th>17</th>\n",
       "    </tr>\n",
       "  </thead>\n",
       "  <tbody>\n",
       "    <tr>\n",
       "      <th>0</th>\n",
       "      <td>0.0</td>\n",
       "      <td>0.0</td>\n",
       "      <td>0.00000</td>\n",
       "      <td>0.0</td>\n",
       "      <td>0.0</td>\n",
       "      <td>0.0</td>\n",
       "      <td>0.0</td>\n",
       "      <td>0.0</td>\n",
       "      <td>0.000000</td>\n",
       "      <td>1.000000</td>\n",
       "      <td>0.0</td>\n",
       "      <td>0.0</td>\n",
       "      <td>0.00000</td>\n",
       "      <td>0.0</td>\n",
       "      <td>0.0</td>\n",
       "      <td>0.000000</td>\n",
       "      <td>0.0</td>\n",
       "      <td>0.0</td>\n",
       "    </tr>\n",
       "    <tr>\n",
       "      <th>1</th>\n",
       "      <td>0.0</td>\n",
       "      <td>0.0</td>\n",
       "      <td>0.00000</td>\n",
       "      <td>0.0</td>\n",
       "      <td>0.0</td>\n",
       "      <td>0.0</td>\n",
       "      <td>0.0</td>\n",
       "      <td>0.0</td>\n",
       "      <td>0.000000</td>\n",
       "      <td>1.000000</td>\n",
       "      <td>0.0</td>\n",
       "      <td>0.0</td>\n",
       "      <td>0.00000</td>\n",
       "      <td>0.0</td>\n",
       "      <td>0.0</td>\n",
       "      <td>0.000000</td>\n",
       "      <td>0.0</td>\n",
       "      <td>0.0</td>\n",
       "    </tr>\n",
       "    <tr>\n",
       "      <th>2</th>\n",
       "      <td>0.0</td>\n",
       "      <td>0.0</td>\n",
       "      <td>0.00000</td>\n",
       "      <td>0.0</td>\n",
       "      <td>0.0</td>\n",
       "      <td>0.0</td>\n",
       "      <td>0.0</td>\n",
       "      <td>0.0</td>\n",
       "      <td>0.000000</td>\n",
       "      <td>1.000000</td>\n",
       "      <td>0.0</td>\n",
       "      <td>0.0</td>\n",
       "      <td>0.00000</td>\n",
       "      <td>0.0</td>\n",
       "      <td>0.0</td>\n",
       "      <td>0.000000</td>\n",
       "      <td>0.0</td>\n",
       "      <td>0.0</td>\n",
       "    </tr>\n",
       "    <tr>\n",
       "      <th>3</th>\n",
       "      <td>0.0</td>\n",
       "      <td>0.0</td>\n",
       "      <td>0.00000</td>\n",
       "      <td>0.0</td>\n",
       "      <td>0.0</td>\n",
       "      <td>0.0</td>\n",
       "      <td>0.0</td>\n",
       "      <td>0.0</td>\n",
       "      <td>0.707107</td>\n",
       "      <td>0.707107</td>\n",
       "      <td>0.0</td>\n",
       "      <td>0.0</td>\n",
       "      <td>0.00000</td>\n",
       "      <td>0.0</td>\n",
       "      <td>0.0</td>\n",
       "      <td>0.000000</td>\n",
       "      <td>0.0</td>\n",
       "      <td>0.0</td>\n",
       "    </tr>\n",
       "    <tr>\n",
       "      <th>4</th>\n",
       "      <td>0.0</td>\n",
       "      <td>0.0</td>\n",
       "      <td>0.00000</td>\n",
       "      <td>0.0</td>\n",
       "      <td>0.0</td>\n",
       "      <td>0.0</td>\n",
       "      <td>0.0</td>\n",
       "      <td>0.0</td>\n",
       "      <td>0.894427</td>\n",
       "      <td>0.447214</td>\n",
       "      <td>0.0</td>\n",
       "      <td>0.0</td>\n",
       "      <td>0.00000</td>\n",
       "      <td>0.0</td>\n",
       "      <td>0.0</td>\n",
       "      <td>0.000000</td>\n",
       "      <td>0.0</td>\n",
       "      <td>0.0</td>\n",
       "    </tr>\n",
       "    <tr>\n",
       "      <th>...</th>\n",
       "      <td>...</td>\n",
       "      <td>...</td>\n",
       "      <td>...</td>\n",
       "      <td>...</td>\n",
       "      <td>...</td>\n",
       "      <td>...</td>\n",
       "      <td>...</td>\n",
       "      <td>...</td>\n",
       "      <td>...</td>\n",
       "      <td>...</td>\n",
       "      <td>...</td>\n",
       "      <td>...</td>\n",
       "      <td>...</td>\n",
       "      <td>...</td>\n",
       "      <td>...</td>\n",
       "      <td>...</td>\n",
       "      <td>...</td>\n",
       "      <td>...</td>\n",
       "    </tr>\n",
       "    <tr>\n",
       "      <th>995</th>\n",
       "      <td>0.0</td>\n",
       "      <td>0.0</td>\n",
       "      <td>0.00000</td>\n",
       "      <td>0.0</td>\n",
       "      <td>0.0</td>\n",
       "      <td>0.0</td>\n",
       "      <td>0.0</td>\n",
       "      <td>0.0</td>\n",
       "      <td>0.000000</td>\n",
       "      <td>1.000000</td>\n",
       "      <td>0.0</td>\n",
       "      <td>0.0</td>\n",
       "      <td>0.00000</td>\n",
       "      <td>0.0</td>\n",
       "      <td>0.0</td>\n",
       "      <td>0.000000</td>\n",
       "      <td>0.0</td>\n",
       "      <td>0.0</td>\n",
       "    </tr>\n",
       "    <tr>\n",
       "      <th>996</th>\n",
       "      <td>0.0</td>\n",
       "      <td>0.0</td>\n",
       "      <td>0.00000</td>\n",
       "      <td>0.0</td>\n",
       "      <td>0.0</td>\n",
       "      <td>0.0</td>\n",
       "      <td>0.0</td>\n",
       "      <td>0.0</td>\n",
       "      <td>0.000000</td>\n",
       "      <td>1.000000</td>\n",
       "      <td>0.0</td>\n",
       "      <td>0.0</td>\n",
       "      <td>0.00000</td>\n",
       "      <td>0.0</td>\n",
       "      <td>0.0</td>\n",
       "      <td>0.000000</td>\n",
       "      <td>0.0</td>\n",
       "      <td>0.0</td>\n",
       "    </tr>\n",
       "    <tr>\n",
       "      <th>997</th>\n",
       "      <td>0.0</td>\n",
       "      <td>0.0</td>\n",
       "      <td>0.00000</td>\n",
       "      <td>0.0</td>\n",
       "      <td>0.0</td>\n",
       "      <td>0.0</td>\n",
       "      <td>0.0</td>\n",
       "      <td>0.0</td>\n",
       "      <td>0.000000</td>\n",
       "      <td>1.000000</td>\n",
       "      <td>0.0</td>\n",
       "      <td>0.0</td>\n",
       "      <td>0.00000</td>\n",
       "      <td>0.0</td>\n",
       "      <td>0.0</td>\n",
       "      <td>0.000000</td>\n",
       "      <td>0.0</td>\n",
       "      <td>0.0</td>\n",
       "    </tr>\n",
       "    <tr>\n",
       "      <th>998</th>\n",
       "      <td>0.0</td>\n",
       "      <td>0.0</td>\n",
       "      <td>0.57735</td>\n",
       "      <td>0.0</td>\n",
       "      <td>0.0</td>\n",
       "      <td>0.0</td>\n",
       "      <td>0.0</td>\n",
       "      <td>0.0</td>\n",
       "      <td>0.000000</td>\n",
       "      <td>0.577350</td>\n",
       "      <td>0.0</td>\n",
       "      <td>0.0</td>\n",
       "      <td>0.57735</td>\n",
       "      <td>0.0</td>\n",
       "      <td>0.0</td>\n",
       "      <td>0.000000</td>\n",
       "      <td>0.0</td>\n",
       "      <td>0.0</td>\n",
       "    </tr>\n",
       "    <tr>\n",
       "      <th>999</th>\n",
       "      <td>0.0</td>\n",
       "      <td>0.0</td>\n",
       "      <td>0.00000</td>\n",
       "      <td>0.0</td>\n",
       "      <td>0.0</td>\n",
       "      <td>0.0</td>\n",
       "      <td>0.0</td>\n",
       "      <td>0.0</td>\n",
       "      <td>0.000000</td>\n",
       "      <td>0.707107</td>\n",
       "      <td>0.0</td>\n",
       "      <td>0.0</td>\n",
       "      <td>0.00000</td>\n",
       "      <td>0.0</td>\n",
       "      <td>0.0</td>\n",
       "      <td>0.707107</td>\n",
       "      <td>0.0</td>\n",
       "      <td>0.0</td>\n",
       "    </tr>\n",
       "  </tbody>\n",
       "</table>\n",
       "<p>1000 rows × 18 columns</p>\n",
       "</div>"
      ],
      "text/plain": [
       "      0    1        2    3    4    5    6    7         8         9    10   11  \\\n",
       "0    0.0  0.0  0.00000  0.0  0.0  0.0  0.0  0.0  0.000000  1.000000  0.0  0.0   \n",
       "1    0.0  0.0  0.00000  0.0  0.0  0.0  0.0  0.0  0.000000  1.000000  0.0  0.0   \n",
       "2    0.0  0.0  0.00000  0.0  0.0  0.0  0.0  0.0  0.000000  1.000000  0.0  0.0   \n",
       "3    0.0  0.0  0.00000  0.0  0.0  0.0  0.0  0.0  0.707107  0.707107  0.0  0.0   \n",
       "4    0.0  0.0  0.00000  0.0  0.0  0.0  0.0  0.0  0.894427  0.447214  0.0  0.0   \n",
       "..   ...  ...      ...  ...  ...  ...  ...  ...       ...       ...  ...  ...   \n",
       "995  0.0  0.0  0.00000  0.0  0.0  0.0  0.0  0.0  0.000000  1.000000  0.0  0.0   \n",
       "996  0.0  0.0  0.00000  0.0  0.0  0.0  0.0  0.0  0.000000  1.000000  0.0  0.0   \n",
       "997  0.0  0.0  0.00000  0.0  0.0  0.0  0.0  0.0  0.000000  1.000000  0.0  0.0   \n",
       "998  0.0  0.0  0.57735  0.0  0.0  0.0  0.0  0.0  0.000000  0.577350  0.0  0.0   \n",
       "999  0.0  0.0  0.00000  0.0  0.0  0.0  0.0  0.0  0.000000  0.707107  0.0  0.0   \n",
       "\n",
       "          12   13   14        15   16   17  \n",
       "0    0.00000  0.0  0.0  0.000000  0.0  0.0  \n",
       "1    0.00000  0.0  0.0  0.000000  0.0  0.0  \n",
       "2    0.00000  0.0  0.0  0.000000  0.0  0.0  \n",
       "3    0.00000  0.0  0.0  0.000000  0.0  0.0  \n",
       "4    0.00000  0.0  0.0  0.000000  0.0  0.0  \n",
       "..       ...  ...  ...       ...  ...  ...  \n",
       "995  0.00000  0.0  0.0  0.000000  0.0  0.0  \n",
       "996  0.00000  0.0  0.0  0.000000  0.0  0.0  \n",
       "997  0.00000  0.0  0.0  0.000000  0.0  0.0  \n",
       "998  0.57735  0.0  0.0  0.000000  0.0  0.0  \n",
       "999  0.00000  0.0  0.0  0.707107  0.0  0.0  \n",
       "\n",
       "[1000 rows x 18 columns]"
      ]
     },
     "execution_count": 13,
     "metadata": {},
     "output_type": "execute_result"
    }
   ],
   "source": [
    "pd.DataFrame(galaxy_tfidv.transform(galaxy_posts).toarray())  # 배열 >> 데이터프레임 "
   ]
  }
 ],
 "metadata": {
  "kernelspec": {
   "display_name": "Python 3 (ipykernel)",
   "language": "python",
   "name": "python3"
  },
  "language_info": {
   "codemirror_mode": {
    "name": "ipython",
    "version": 3
   },
   "file_extension": ".py",
   "mimetype": "text/x-python",
   "name": "python",
   "nbconvert_exporter": "python",
   "pygments_lexer": "ipython3",
   "version": "3.9.7"
  },
  "toc": {
   "base_numbering": 1,
   "nav_menu": {},
   "number_sections": true,
   "sideBar": true,
   "skip_h1_title": false,
   "title_cell": "Table of Contents",
   "title_sidebar": "Contents",
   "toc_cell": false,
   "toc_position": {},
   "toc_section_display": true,
   "toc_window_display": false
  }
 },
 "nbformat": 4,
 "nbformat_minor": 2
}
